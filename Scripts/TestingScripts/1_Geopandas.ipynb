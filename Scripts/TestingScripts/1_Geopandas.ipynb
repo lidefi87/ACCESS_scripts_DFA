{
 "cells": [
  {
   "cell_type": "markdown",
   "metadata": {},
   "source": [
    "# Using Geopandas"
   ]
  },
  {
   "cell_type": "code",
   "execution_count": 1,
   "metadata": {},
   "outputs": [],
   "source": [
    "%matplotlib inline\n",
    "\n",
    "import matplotlib.pyplot as plt\n",
    "import pandas as pd\n",
    "import geopandas as gpd\n",
    "import fiona\n",
    "import rasterio\n",
    "import xarray as xr"
   ]
  },
  {
   "cell_type": "code",
   "execution_count": 10,
   "metadata": {},
   "outputs": [
    {
     "ename": "AttributeError",
     "evalue": "'DataArray' object has no attribute 'crs'",
     "output_type": "error",
     "traceback": [
      "\u001b[0;31m---------------------------------------------------------------------------\u001b[0m",
      "\u001b[0;31mAttributeError\u001b[0m                            Traceback (most recent call last)",
      "\u001b[0;32m<ipython-input-10-09d23e5ea6f5>\u001b[0m in \u001b[0;36m<module>\u001b[0;34m\u001b[0m\n\u001b[1;32m      5\u001b[0m \u001b[0;31m# x[0].rio.to_raster(\"test.tif\")\u001b[0m\u001b[0;34m\u001b[0m\u001b[0;34m\u001b[0m\u001b[0;34m\u001b[0m\u001b[0m\n\u001b[1;32m      6\u001b[0m \u001b[0;31m# wpgt\u001b[0m\u001b[0;34m\u001b[0m\u001b[0;34m\u001b[0m\u001b[0;34m\u001b[0m\u001b[0m\n\u001b[0;32m----> 7\u001b[0;31m \u001b[0mx\u001b[0m\u001b[0;34m.\u001b[0m\u001b[0mcrs\u001b[0m\u001b[0;34m(\u001b[0m\u001b[0;34m)\u001b[0m\u001b[0;34m\u001b[0m\u001b[0;34m\u001b[0m\u001b[0m\n\u001b[0m",
      "\u001b[0;32m~/.local/lib/python3.8/site-packages/xarray/core/common.py\u001b[0m in \u001b[0;36m__getattr__\u001b[0;34m(self, name)\u001b[0m\n\u001b[1;32m    237\u001b[0m                 \u001b[0;32mwith\u001b[0m \u001b[0msuppress\u001b[0m\u001b[0;34m(\u001b[0m\u001b[0mKeyError\u001b[0m\u001b[0;34m)\u001b[0m\u001b[0;34m:\u001b[0m\u001b[0;34m\u001b[0m\u001b[0;34m\u001b[0m\u001b[0m\n\u001b[1;32m    238\u001b[0m                     \u001b[0;32mreturn\u001b[0m \u001b[0msource\u001b[0m\u001b[0;34m[\u001b[0m\u001b[0mname\u001b[0m\u001b[0;34m]\u001b[0m\u001b[0;34m\u001b[0m\u001b[0;34m\u001b[0m\u001b[0m\n\u001b[0;32m--> 239\u001b[0;31m         raise AttributeError(\n\u001b[0m\u001b[1;32m    240\u001b[0m             \u001b[0;34m\"{!r} object has no attribute {!r}\"\u001b[0m\u001b[0;34m.\u001b[0m\u001b[0mformat\u001b[0m\u001b[0;34m(\u001b[0m\u001b[0mtype\u001b[0m\u001b[0;34m(\u001b[0m\u001b[0mself\u001b[0m\u001b[0;34m)\u001b[0m\u001b[0;34m.\u001b[0m\u001b[0m__name__\u001b[0m\u001b[0;34m,\u001b[0m \u001b[0mname\u001b[0m\u001b[0;34m)\u001b[0m\u001b[0;34m\u001b[0m\u001b[0;34m\u001b[0m\u001b[0m\n\u001b[1;32m    241\u001b[0m         )\n",
      "\u001b[0;31mAttributeError\u001b[0m: 'DataArray' object has no attribute 'crs'"
     ]
    }
   ],
   "source": [
    "#Load raster\n",
    "# wpgt = xr.open_dataarray(\"/g/data/v45/la6889/Calculations/Baseline_SST_1979-2008.nc\", autoclose = True)\n",
    "# wpgt.isel(season = 0).rio.to_raster('test.tif')\n",
    "x = xr.open_rasterio(filename = r\"/g/data/v45/la6889/Calculations/Baseline_SST_1979-2008.nc\")\n",
    "# x[0].rio.to_raster(\"test.tif\")\n",
    "# wpgt\n",
    "#Try CRS EPSG:4326\n",
    "x.crs()"
   ]
  },
  {
   "cell_type": "code",
   "execution_count": 66,
   "metadata": {},
   "outputs": [
    {
     "ename": "AttributeError",
     "evalue": "'numpy.ndarray' object has no attribute 'plot'",
     "output_type": "error",
     "traceback": [
      "\u001b[0;31m---------------------------------------------------------------------------\u001b[0m",
      "\u001b[0;31mAttributeError\u001b[0m                            Traceback (most recent call last)",
      "\u001b[0;32m<ipython-input-66-3a53acf12a2e>\u001b[0m in \u001b[0;36m<module>\u001b[0;34m\u001b[0m\n\u001b[1;32m      2\u001b[0m \u001b[0my\u001b[0m \u001b[0;34m=\u001b[0m \u001b[0mrasterio\u001b[0m\u001b[0;34m.\u001b[0m\u001b[0mopen\u001b[0m\u001b[0;34m(\u001b[0m\u001b[0;34m\"test.tif\"\u001b[0m\u001b[0;34m)\u001b[0m\u001b[0;34m\u001b[0m\u001b[0;34m\u001b[0m\u001b[0m\n\u001b[1;32m      3\u001b[0m \u001b[0my_r\u001b[0m \u001b[0;34m=\u001b[0m \u001b[0my\u001b[0m\u001b[0;34m.\u001b[0m\u001b[0mread\u001b[0m\u001b[0;34m(\u001b[0m\u001b[0;34m)\u001b[0m\u001b[0;34m\u001b[0m\u001b[0;34m\u001b[0m\u001b[0m\n\u001b[0;32m----> 4\u001b[0;31m \u001b[0my_r\u001b[0m\u001b[0;34m.\u001b[0m\u001b[0mplot\u001b[0m\u001b[0;34m(\u001b[0m\u001b[0;34m)\u001b[0m\u001b[0;34m\u001b[0m\u001b[0;34m\u001b[0m\u001b[0m\n\u001b[0m",
      "\u001b[0;31mAttributeError\u001b[0m: 'numpy.ndarray' object has no attribute 'plot'"
     ]
    }
   ],
   "source": [
    "# rasterIce = rasterio.features.rasterize([x.geometry, 1] for i, x in )\n",
    "y = rasterio.open(\"test.tif\")\n",
    "y_r = y.read()\n",
    "y_r.plot()"
   ]
  },
  {
   "cell_type": "code",
   "execution_count": 69,
   "metadata": {},
   "outputs": [
    {
     "ename": "AttributeError",
     "evalue": "'DatasetReader' object has no attribute 'plot'",
     "output_type": "error",
     "traceback": [
      "\u001b[0;31m---------------------------------------------------------------------------\u001b[0m",
      "\u001b[0;31mAttributeError\u001b[0m                            Traceback (most recent call last)",
      "\u001b[0;32m<ipython-input-69-6f25a709cf8d>\u001b[0m in \u001b[0;36m<module>\u001b[0;34m\u001b[0m\n\u001b[1;32m      1\u001b[0m \u001b[0mplt\u001b[0m\u001b[0;34m.\u001b[0m\u001b[0msubplot\u001b[0m\u001b[0;34m(\u001b[0m\u001b[0;36m1\u001b[0m\u001b[0;34m,\u001b[0m \u001b[0;36m1\u001b[0m\u001b[0;34m,\u001b[0m \u001b[0;36m1\u001b[0m\u001b[0;34m)\u001b[0m\u001b[0;34m\u001b[0m\u001b[0;34m\u001b[0m\u001b[0m\n\u001b[0;32m----> 2\u001b[0;31m \u001b[0my\u001b[0m\u001b[0;34m.\u001b[0m\u001b[0mplot\u001b[0m\u001b[0;34m(\u001b[0m\u001b[0;34m)\u001b[0m\u001b[0;34m\u001b[0m\u001b[0;34m\u001b[0m\u001b[0m\n\u001b[0m",
      "\u001b[0;31mAttributeError\u001b[0m: 'DatasetReader' object has no attribute 'plot'"
     ]
    },
    {
     "data": {
      "image/png": "[encoded data removed]",
      "text/plain": [
       "<Figure size 432x288 with 1 Axes>"
      ]
     },
     "metadata": {
      "needs_background": "light"
     },
     "output_type": "display_data"
    }
   ],
   "source": [
    "plt.subplot(1, 1, 1)\n",
    "y.plot()"
   ]
  },
  {
   "cell_type": "code",
   "execution_count": 6,
   "metadata": {},
   "outputs": [
    {
     "data": {
      "text/html": [
       "<div>\n",
       "<style scoped>\n",
       "    .dataframe tbody tr th:only-of-type {\n",
       "        vertical-align: middle;\n",
       "    }\n",
       "\n",
       "    .dataframe tbody tr th {\n",
       "        vertical-align: top;\n",
       "    }\n",
       "\n",
       "    .dataframe thead th {\n",
       "        text-align: right;\n",
       "    }\n",
       "</style>\n",
       "<table border=\"1\" class=\"dataframe\">\n",
       "  <thead>\n",
       "    <tr style=\"text-align: right;\">\n",
       "      <th></th>\n",
       "      <th>name</th>\n",
       "      <th>sector</th>\n",
       "      <th>zone</th>\n",
       "      <th>fill</th>\n",
       "      <th>geometry</th>\n",
       "    </tr>\n",
       "  </thead>\n",
       "  <tbody>\n",
       "    <tr>\n",
       "      <th>0</th>\n",
       "      <td>AOA</td>\n",
       "      <td>Atlantic</td>\n",
       "      <td>Antarctic</td>\n",
       "      <td>#BCECFEFF</td>\n",
       "      <td>POLYGON ((-2891646.910 1737476.753, -2906527.1...</td>\n",
       "    </tr>\n",
       "    <tr>\n",
       "      <th>1</th>\n",
       "      <td>AON</td>\n",
       "      <td>Atlantic</td>\n",
       "      <td>Northern</td>\n",
       "      <td>#054e70FF</td>\n",
       "      <td>POLYGON ((2613012.979 4525871.241, 2602872.922...</td>\n",
       "    </tr>\n",
       "    <tr>\n",
       "      <th>2</th>\n",
       "      <td>AOS</td>\n",
       "      <td>Atlantic</td>\n",
       "      <td>Subantarctic</td>\n",
       "      <td>#1094AFFF</td>\n",
       "      <td>POLYGON ((1842391.575 3191115.815, 1832255.865...</td>\n",
       "    </tr>\n",
       "    <tr>\n",
       "      <th>3</th>\n",
       "      <td>AOT</td>\n",
       "      <td>Atlantic</td>\n",
       "      <td>None</td>\n",
       "      <td>None</td>\n",
       "      <td>POLYGON ((-3353009.432 1723415.613, -3368360.3...</td>\n",
       "    </tr>\n",
       "    <tr>\n",
       "      <th>4</th>\n",
       "      <td>CIA</td>\n",
       "      <td>CentralIndian</td>\n",
       "      <td>Antarctic</td>\n",
       "      <td>#FFFFFFFF</td>\n",
       "      <td>POLYGON ((279139.204 483483.283, 290257.638 50...</td>\n",
       "    </tr>\n",
       "  </tbody>\n",
       "</table>\n",
       "</div>"
      ],
      "text/plain": [
       "  name         sector          zone       fill  \\\n",
       "0  AOA       Atlantic     Antarctic  #BCECFEFF   \n",
       "1  AON       Atlantic      Northern  #054e70FF   \n",
       "2  AOS       Atlantic  Subantarctic  #1094AFFF   \n",
       "3  AOT       Atlantic          None       None   \n",
       "4  CIA  CentralIndian     Antarctic  #FFFFFFFF   \n",
       "\n",
       "                                            geometry  \n",
       "0  POLYGON ((-2891646.910 1737476.753, -2906527.1...  \n",
       "1  POLYGON ((2613012.979 4525871.241, 2602872.922...  \n",
       "2  POLYGON ((1842391.575 3191115.815, 1832255.865...  \n",
       "3  POLYGON ((-3353009.432 1723415.613, -3368360.3...  \n",
       "4  POLYGON ((279139.204 483483.283, 290257.638 50...  "
      ]
     },
     "execution_count": 6,
     "metadata": {},
     "output_type": "execute_result"
    }
   ],
   "source": [
    "#Load shapefile\n",
    "gf = gpd.read_file(r'/g/data/v45/la6889/GIS_DataBase/Shapefiles/SOregions.shp')\n",
    "#Check content of shapefile\n",
    "gf.head()"
   ]
  },
  {
   "cell_type": "code",
   "execution_count": 7,
   "metadata": {},
   "outputs": [
    {
     "data": {
      "text/plain": [
       "<AxesSubplot:>"
      ]
     },
     "execution_count": 7,
     "metadata": {},
     "output_type": "execute_result"
    },
    {
     "data": {
      "image/png": "[encoded data removed]",
      "text/plain": [
       "<Figure size 432x288 with 2 Axes>"
      ]
     },
     "metadata": {
      "needs_background": "light"
     },
     "output_type": "display_data"
    },
    {
     "data": {
      "image/png": "[encoded data removed]",
      "text/plain": [
       "<Figure size 432x288 with 1 Axes>"
      ]
     },
     "metadata": {
      "needs_background": "light"
     },
     "output_type": "display_data"
    }
   ],
   "source": [
    "x[0].plot()\n",
    "gf.plot()"
   ]
  },
  {
   "cell_type": "code",
   "execution_count": 13,
   "metadata": {},
   "outputs": [
    {
     "data": {
      "text/html": [
       "<div>\n",
       "<style scoped>\n",
       "    .dataframe tbody tr th:only-of-type {\n",
       "        vertical-align: middle;\n",
       "    }\n",
       "\n",
       "    .dataframe tbody tr th {\n",
       "        vertical-align: top;\n",
       "    }\n",
       "\n",
       "    .dataframe thead th {\n",
       "        text-align: right;\n",
       "    }\n",
       "</style>\n",
       "<table border=\"1\" class=\"dataframe\">\n",
       "  <thead>\n",
       "    <tr style=\"text-align: right;\">\n",
       "      <th></th>\n",
       "      <th>name</th>\n",
       "      <th>sector</th>\n",
       "      <th>zone</th>\n",
       "      <th>fill</th>\n",
       "      <th>geometry</th>\n",
       "    </tr>\n",
       "  </thead>\n",
       "  <tbody>\n",
       "    <tr>\n",
       "      <th>3</th>\n",
       "      <td>AOT</td>\n",
       "      <td>Atlantic</td>\n",
       "      <td>None</td>\n",
       "      <td>None</td>\n",
       "      <td>POLYGON ((-3353009.432 1723415.613, -3368360.3...</td>\n",
       "    </tr>\n",
       "    <tr>\n",
       "      <th>4</th>\n",
       "      <td>CIA</td>\n",
       "      <td>CentralIndian</td>\n",
       "      <td>Antarctic</td>\n",
       "      <td>#FFFFFFFF</td>\n",
       "      <td>POLYGON ((279139.204 483483.283, 290257.638 50...</td>\n",
       "    </tr>\n",
       "  </tbody>\n",
       "</table>\n",
       "</div>"
      ],
      "text/plain": [
       "  name         sector       zone       fill  \\\n",
       "3  AOT       Atlantic       None       None   \n",
       "4  CIA  CentralIndian  Antarctic  #FFFFFFFF   \n",
       "\n",
       "                                            geometry  \n",
       "3  POLYGON ((-3353009.432 1723415.613, -3368360.3...  \n",
       "4  POLYGON ((279139.204 483483.283, 290257.638 50...  "
      ]
     },
     "execution_count": 13,
     "metadata": {},
     "output_type": "execute_result"
    }
   ],
   "source": [
    "#Slicing data\n",
    "gf.iloc[3:5]"
   ]
  },
  {
   "cell_type": "code",
   "execution_count": 40,
   "metadata": {},
   "outputs": [
    {
     "data": {
      "text/plain": [
       "<Projected CRS: EPSG:6932>\n",
       "Name: WGS 84 / NSIDC EASE-Grid 2.0 South\n",
       "Axis Info [cartesian]:\n",
       "- X[north]: Easting (metre)\n",
       "- Y[north]: Northing (metre)\n",
       "Area of Use:\n",
       "- name: World - south of 0°N\n",
       "- bounds: (-180.0, -90.0, 180.0, 0.0)\n",
       "Coordinate Operation:\n",
       "- name: US NSIDC EASE-Grid 2.0 South\n",
       "- method: Lambert Azimuthal Equal Area\n",
       "Datum: World Geodetic System 1984\n",
       "- Ellipsoid: WGS 84\n",
       "- Prime Meridian: Greenwich"
      ]
     },
     "execution_count": 40,
     "metadata": {},
     "output_type": "execute_result"
    }
   ],
   "source": [
    "#Checking CRS\n",
    "gf.crs"
   ]
  },
  {
   "cell_type": "code",
   "execution_count": 19,
   "metadata": {},
   "outputs": [
    {
     "data": {
      "text/html": [
       "<div>\n",
       "<style scoped>\n",
       "    .dataframe tbody tr th:only-of-type {\n",
       "        vertical-align: middle;\n",
       "    }\n",
       "\n",
       "    .dataframe tbody tr th {\n",
       "        vertical-align: top;\n",
       "    }\n",
       "\n",
       "    .dataframe thead th {\n",
       "        text-align: right;\n",
       "    }\n",
       "</style>\n",
       "<table border=\"1\" class=\"dataframe\">\n",
       "  <thead>\n",
       "    <tr style=\"text-align: right;\">\n",
       "      <th></th>\n",
       "      <th>name</th>\n",
       "      <th>sector</th>\n",
       "      <th>zone</th>\n",
       "      <th>fill</th>\n",
       "      <th>geometry</th>\n",
       "    </tr>\n",
       "  </thead>\n",
       "  <tbody>\n",
       "    <tr>\n",
       "      <th>0</th>\n",
       "      <td>AOA</td>\n",
       "      <td>Atlantic</td>\n",
       "      <td>Antarctic</td>\n",
       "      <td>#BCECFEFF</td>\n",
       "      <td>POLYGON ((-2891646.910 1737476.753, -2906527.1...</td>\n",
       "    </tr>\n",
       "    <tr>\n",
       "      <th>4</th>\n",
       "      <td>CIA</td>\n",
       "      <td>CentralIndian</td>\n",
       "      <td>Antarctic</td>\n",
       "      <td>#FFFFFFFF</td>\n",
       "      <td>POLYGON ((279139.204 483483.283, 290257.638 50...</td>\n",
       "    </tr>\n",
       "    <tr>\n",
       "      <th>8</th>\n",
       "      <td>EIA</td>\n",
       "      <td>EastIndian</td>\n",
       "      <td>Antarctic</td>\n",
       "      <td>#EAFAFFFF</td>\n",
       "      <td>POLYGON ((3048452.332 -1421516.668, 3044304.41...</td>\n",
       "    </tr>\n",
       "    <tr>\n",
       "      <th>12</th>\n",
       "      <td>EPA</td>\n",
       "      <td>EastPacific</td>\n",
       "      <td>Antarctic</td>\n",
       "      <td>#FFFFFFFF</td>\n",
       "      <td>POLYGON ((-457314.899 -320215.339, -475594.187...</td>\n",
       "    </tr>\n",
       "    <tr>\n",
       "      <th>16</th>\n",
       "      <td>WPA</td>\n",
       "      <td>WestPacific</td>\n",
       "      <td>Antarctic</td>\n",
       "      <td>#016074FF</td>\n",
       "      <td>POLYGON ((533521.269 -3025749.472, 524717.476 ...</td>\n",
       "    </tr>\n",
       "    <tr>\n",
       "      <th>17</th>\n",
       "      <td>WPA</td>\n",
       "      <td>WestPacific</td>\n",
       "      <td>Antarctic</td>\n",
       "      <td>#BCECFEFF</td>\n",
       "      <td>POLYGON ((533521.269 -3025749.472, 524717.476 ...</td>\n",
       "    </tr>\n",
       "  </tbody>\n",
       "</table>\n",
       "</div>"
      ],
      "text/plain": [
       "   name         sector       zone       fill  \\\n",
       "0   AOA       Atlantic  Antarctic  #BCECFEFF   \n",
       "4   CIA  CentralIndian  Antarctic  #FFFFFFFF   \n",
       "8   EIA     EastIndian  Antarctic  #EAFAFFFF   \n",
       "12  EPA    EastPacific  Antarctic  #FFFFFFFF   \n",
       "16  WPA    WestPacific  Antarctic  #016074FF   \n",
       "17  WPA    WestPacific  Antarctic  #BCECFEFF   \n",
       "\n",
       "                                             geometry  \n",
       "0   POLYGON ((-2891646.910 1737476.753, -2906527.1...  \n",
       "4   POLYGON ((279139.204 483483.283, 290257.638 50...  \n",
       "8   POLYGON ((3048452.332 -1421516.668, 3044304.41...  \n",
       "12  POLYGON ((-457314.899 -320215.339, -475594.187...  \n",
       "16  POLYGON ((533521.269 -3025749.472, 524717.476 ...  \n",
       "17  POLYGON ((533521.269 -3025749.472, 524717.476 ...  "
      ]
     },
     "execution_count": 19,
     "metadata": {},
     "output_type": "execute_result"
    }
   ],
   "source": [
    "#Query column for a value of interest - Note that entire query needs to be inside quotation marks and then again quotation marks are used for strings\n",
    "gf.query('zone == \"Antarctic\"')"
   ]
  },
  {
   "cell_type": "code",
   "execution_count": 20,
   "metadata": {},
   "outputs": [
    {
     "data": {
      "text/html": [
       "<div>\n",
       "<style scoped>\n",
       "    .dataframe tbody tr th:only-of-type {\n",
       "        vertical-align: middle;\n",
       "    }\n",
       "\n",
       "    .dataframe tbody tr th {\n",
       "        vertical-align: top;\n",
       "    }\n",
       "\n",
       "    .dataframe thead th {\n",
       "        text-align: right;\n",
       "    }\n",
       "</style>\n",
       "<table border=\"1\" class=\"dataframe\">\n",
       "  <thead>\n",
       "    <tr style=\"text-align: right;\">\n",
       "      <th></th>\n",
       "      <th>name</th>\n",
       "      <th>sector</th>\n",
       "      <th>zone</th>\n",
       "      <th>fill</th>\n",
       "      <th>geometry</th>\n",
       "    </tr>\n",
       "  </thead>\n",
       "  <tbody>\n",
       "    <tr>\n",
       "      <th>16</th>\n",
       "      <td>WPA</td>\n",
       "      <td>WestPacific</td>\n",
       "      <td>Antarctic</td>\n",
       "      <td>#016074FF</td>\n",
       "      <td>POLYGON ((533521.269 -3025749.472, 524717.476 ...</td>\n",
       "    </tr>\n",
       "    <tr>\n",
       "      <th>17</th>\n",
       "      <td>WPA</td>\n",
       "      <td>WestPacific</td>\n",
       "      <td>Antarctic</td>\n",
       "      <td>#BCECFEFF</td>\n",
       "      <td>POLYGON ((533521.269 -3025749.472, 524717.476 ...</td>\n",
       "    </tr>\n",
       "  </tbody>\n",
       "</table>\n",
       "</div>"
      ],
      "text/plain": [
       "   name       sector       zone       fill  \\\n",
       "16  WPA  WestPacific  Antarctic  #016074FF   \n",
       "17  WPA  WestPacific  Antarctic  #BCECFEFF   \n",
       "\n",
       "                                             geometry  \n",
       "16  POLYGON ((533521.269 -3025749.472, 524717.476 ...  \n",
       "17  POLYGON ((533521.269 -3025749.472, 524717.476 ...  "
      ]
     },
     "execution_count": 20,
     "metadata": {},
     "output_type": "execute_result"
    }
   ],
   "source": [
    "#Complex queries can be done concatenating the query function multiple times\n",
    "gf.query('zone == \"Antarctic\"').query('sector == \"WestPacific\"')"
   ]
  },
  {
   "cell_type": "code",
   "execution_count": 21,
   "metadata": {},
   "outputs": [
    {
     "data": {
      "text/plain": [
       "count            18\n",
       "unique            3\n",
       "top       Antarctic\n",
       "freq              6\n",
       "Name: zone, dtype: object"
      ]
     },
     "execution_count": 21,
     "metadata": {},
     "output_type": "execute_result"
    }
   ],
   "source": [
    "#Basic statistics given when using describe function\n",
    "gf.zone.describe()"
   ]
  },
  {
   "cell_type": "code",
   "execution_count": 22,
   "metadata": {},
   "outputs": [
    {
     "data": {
      "text/plain": [
       "array(['Antarctic', 'Northern', 'Subantarctic', None], dtype=object)"
      ]
     },
     "execution_count": 22,
     "metadata": {},
     "output_type": "execute_result"
    }
   ],
   "source": [
    "#Unique values for a column can be obtained with unique\n",
    "gf.zone.unique() #It matches the above information of three unique values"
   ]
  },
  {
   "cell_type": "code",
   "execution_count": 24,
   "metadata": {},
   "outputs": [
    {
     "data": {
      "text/html": [
       "<div>\n",
       "<style scoped>\n",
       "    .dataframe tbody tr th:only-of-type {\n",
       "        vertical-align: middle;\n",
       "    }\n",
       "\n",
       "    .dataframe tbody tr th {\n",
       "        vertical-align: top;\n",
       "    }\n",
       "\n",
       "    .dataframe thead th {\n",
       "        text-align: right;\n",
       "    }\n",
       "</style>\n",
       "<table border=\"1\" class=\"dataframe\">\n",
       "  <thead>\n",
       "    <tr style=\"text-align: right;\">\n",
       "      <th></th>\n",
       "      <th>count</th>\n",
       "      <th>unique</th>\n",
       "      <th>top</th>\n",
       "      <th>freq</th>\n",
       "    </tr>\n",
       "    <tr>\n",
       "      <th>sector</th>\n",
       "      <th></th>\n",
       "      <th></th>\n",
       "      <th></th>\n",
       "      <th></th>\n",
       "    </tr>\n",
       "  </thead>\n",
       "  <tbody>\n",
       "    <tr>\n",
       "      <th>Atlantic</th>\n",
       "      <td>3</td>\n",
       "      <td>3</td>\n",
       "      <td>Antarctic</td>\n",
       "      <td>1</td>\n",
       "    </tr>\n",
       "    <tr>\n",
       "      <th>CentralIndian</th>\n",
       "      <td>3</td>\n",
       "      <td>3</td>\n",
       "      <td>Antarctic</td>\n",
       "      <td>1</td>\n",
       "    </tr>\n",
       "    <tr>\n",
       "      <th>EastIndian</th>\n",
       "      <td>3</td>\n",
       "      <td>3</td>\n",
       "      <td>Antarctic</td>\n",
       "      <td>1</td>\n",
       "    </tr>\n",
       "    <tr>\n",
       "      <th>EastPacific</th>\n",
       "      <td>3</td>\n",
       "      <td>3</td>\n",
       "      <td>Antarctic</td>\n",
       "      <td>1</td>\n",
       "    </tr>\n",
       "    <tr>\n",
       "      <th>WestPacific</th>\n",
       "      <td>6</td>\n",
       "      <td>3</td>\n",
       "      <td>Antarctic</td>\n",
       "      <td>2</td>\n",
       "    </tr>\n",
       "  </tbody>\n",
       "</table>\n",
       "</div>"
      ],
      "text/plain": [
       "              count unique        top freq\n",
       "sector                                    \n",
       "Atlantic          3      3  Antarctic    1\n",
       "CentralIndian     3      3  Antarctic    1\n",
       "EastIndian        3      3  Antarctic    1\n",
       "EastPacific       3      3  Antarctic    1\n",
       "WestPacific       6      3  Antarctic    2"
      ]
     },
     "execution_count": 24,
     "metadata": {},
     "output_type": "execute_result"
    }
   ],
   "source": [
    "#Grouping is also possible\n",
    "results = gf.groupby('sector').zone.describe()\n",
    "results"
   ]
  },
  {
   "cell_type": "code",
   "execution_count": 33,
   "metadata": {},
   "outputs": [
    {
     "data": {
      "text/plain": [
       "<AxesSubplot:xlabel='sector'>"
      ]
     },
     "execution_count": 33,
     "metadata": {},
     "output_type": "execute_result"
    },
    {
     "data": {
      "image/png": "[encoded data removed]",
      "text/plain": [
       "<Figure size 432x288 with 1 Axes>"
      ]
     },
     "metadata": {
      "needs_background": "light"
     },
     "output_type": "display_data"
    }
   ],
   "source": [
    "#Plotting above results\n",
    "results.freq.plot()"
   ]
  },
  {
   "cell_type": "code",
   "execution_count": 39,
   "metadata": {},
   "outputs": [
    {
     "data": {
      "text/plain": [
       "<AxesSubplot:xlabel='sector'>"
      ]
     },
     "execution_count": 39,
     "metadata": {},
     "output_type": "execute_result"
    },
    {
     "data": {
      "image/png": "[encoded data removed]",
      "text/plain": [
       "<Figure size 432x288 with 1 Axes>"
      ]
     },
     "metadata": {
      "needs_background": "light"
     },
     "output_type": "display_data"
    }
   ],
   "source": [
    "#Using groups to count zones per sector and plotting as bars\n",
    "gf.groupby('sector').zone.count().sort_values().plot.bar()"
   ]
  },
  {
   "cell_type": "code",
   "execution_count": 29,
   "metadata": {},
   "outputs": [
    {
     "data": {
      "text/plain": [
       "<AxesSubplot:>"
      ]
     },
     "execution_count": 29,
     "metadata": {},
     "output_type": "execute_result"
    },
    {
     "data": {
      "image/png": "[encoded data removed]",
      "text/plain": [
       "<Figure size 432x288 with 1 Axes>"
      ]
     },
     "metadata": {
      "needs_background": "light"
     },
     "output_type": "display_data"
    }
   ],
   "source": [
    "#Create a bounding box to subset data\n",
    "ymin, ymax, xmin, xmax = [-461547.78184981, 2637584.92643165, -2219332.22836696, -136922.07379919]\n",
    "#Subset data that is located within limits of bounding box\n",
    "subset = gf.cx[xmin:xmax, ymin:ymax]\n",
    "#Plot result\n",
    "subset.plot()"
   ]
  },
  {
   "cell_type": "code",
   "execution_count": 24,
   "metadata": {},
   "outputs": [
    {
     "data": {
      "text/plain": [
       "0     1.405971e+07\n",
       "12    3.679846e+06\n",
       "16    5.844277e+06\n",
       "17    5.844277e+06\n",
       "dtype: float64"
      ]
     },
     "execution_count": 24,
     "metadata": {},
     "output_type": "execute_result"
    }
   ],
   "source": [
    "#Changing crs\n",
    "subset = subset.to_crs(epsg=32610)\n",
    "subset.area*1e-6"
   ]
  },
  {
   "cell_type": "code",
   "execution_count": 13,
   "metadata": {},
   "outputs": [],
   "source": [
    "import shapely"
   ]
  },
  {
   "cell_type": "code",
   "execution_count": 31,
   "metadata": {},
   "outputs": [
    {
     "name": "stderr",
     "output_type": "stream",
     "text": [
      "/g/data3/hh5/public/apps/miniconda3/envs/analysis3-20.10/lib/python3.8/site-packages/pyproj/crs/crs.py:53: FutureWarning: '+init=<authority>:<code>' syntax is deprecated. '<authority>:<code>' is the preferred initialization method. When making the change, be mindful of axis order changes: https://pyproj4.github.io/pyproj/stable/gotchas.html#axis-order-changes-in-proj-6\n",
      "  return _prepare_from_string(\" \".join(pjargs))\n"
     ]
    },
    {
     "data": {
      "text/html": [
       "<div>\n",
       "<style scoped>\n",
       "    .dataframe tbody tr th:only-of-type {\n",
       "        vertical-align: middle;\n",
       "    }\n",
       "\n",
       "    .dataframe tbody tr th {\n",
       "        vertical-align: top;\n",
       "    }\n",
       "\n",
       "    .dataframe thead th {\n",
       "        text-align: right;\n",
       "    }\n",
       "</style>\n",
       "<table border=\"1\" class=\"dataframe\">\n",
       "  <thead>\n",
       "    <tr style=\"text-align: right;\">\n",
       "      <th></th>\n",
       "      <th>geometry</th>\n",
       "    </tr>\n",
       "  </thead>\n",
       "  <tbody>\n",
       "    <tr>\n",
       "      <th>0</th>\n",
       "      <td>POLYGON ((-2219332.228 -461547.782, -2219332.2...</td>\n",
       "    </tr>\n",
       "  </tbody>\n",
       "</table>\n",
       "</div>"
      ],
      "text/plain": [
       "                                            geometry\n",
       "0  POLYGON ((-2219332.228 -461547.782, -2219332.2..."
      ]
     },
     "execution_count": 31,
     "metadata": {},
     "output_type": "execute_result"
    }
   ],
   "source": [
    "coords = [(xmin, ymin), (xmin, ymax), (xmax, ymax), (xmax, ymin)]\n",
    "polygon = shapely.geometry.Polygon(coords)\n",
    "polygon_gp = gpd.GeoDataFrame(geometry = [polygon], crs = {'init': 'epsg:6932'})\n",
    "polygon_gp"
   ]
  },
  {
   "cell_type": "code",
   "execution_count": 34,
   "metadata": {},
   "outputs": [
    {
     "data": {
      "text/plain": [
       "<Projected CRS: EPSG:6932>\n",
       "Name: WGS 84 / NSIDC EASE-Grid 2.0 South\n",
       "Axis Info [cartesian]:\n",
       "- X[north]: Easting (metre)\n",
       "- Y[north]: Northing (metre)\n",
       "Area of Use:\n",
       "- name: World - south of 0°N\n",
       "- bounds: (-180.0, -90.0, 180.0, 0.0)\n",
       "Coordinate Operation:\n",
       "- name: US NSIDC EASE-Grid 2.0 South\n",
       "- method: Lambert Azimuthal Equal Area\n",
       "Datum: World Geodetic System 1984\n",
       "- Ellipsoid: WGS 84\n",
       "- Prime Meridian: Greenwich"
      ]
     },
     "execution_count": 34,
     "metadata": {},
     "output_type": "execute_result"
    }
   ],
   "source": [
    "# gpd.sjoin(subset, polygon_gp, how = 'inner', op = 'within')\n"
   ]
  }
 ],
 "metadata": {
  "kernelspec": {
   "display_name": "Python [conda env:analysis3-20.10]",
   "language": "python",
   "name": "conda-env-analysis3-20.10-py"
  },
  "language_info": {
   "codemirror_mode": {
    "name": "ipython",
    "version": 3
   },
   "file_extension": ".py",
   "mimetype": "text/x-python",
   "name": "python",
   "nbconvert_exporter": "python",
   "pygments_lexer": "ipython3",
   "version": "3.8.6"
  }
 },
 "nbformat": 4,
 "nbformat_minor": 4
}
